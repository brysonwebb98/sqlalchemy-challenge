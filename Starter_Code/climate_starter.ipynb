{
 "cells": [
  {
   "cell_type": "code",
   "execution_count": 45,
   "metadata": {},
   "outputs": [],
   "source": [
    "%matplotlib inline\n",
    "from matplotlib import style\n",
    "style.use('fivethirtyeight')\n",
    "import matplotlib.pyplot as plt"
   ]
  },
  {
   "cell_type": "code",
   "execution_count": 46,
   "metadata": {},
   "outputs": [],
   "source": [
    "import numpy as np\n",
    "import pandas as pd\n",
    "import datetime as dt"
   ]
  },
  {
   "cell_type": "markdown",
   "metadata": {},
   "source": [
    "# Reflect Tables into SQLAlchemy ORM"
   ]
  },
  {
   "cell_type": "code",
   "execution_count": 47,
   "metadata": {},
   "outputs": [],
   "source": [
    "# Python SQL toolkit and Object Relational Mapper\n",
    "import sqlalchemy\n",
    "from sqlalchemy.ext.automap import automap_base\n",
    "from sqlalchemy.orm import Session\n",
    "from sqlalchemy import create_engine, func"
   ]
  },
  {
   "cell_type": "code",
   "execution_count": 48,
   "metadata": {},
   "outputs": [],
   "source": [
    "# create engine to hawaii.sqlite\n",
    "engine = create_engine(\"sqlite:///Resources/hawaii.sqlite\")"
   ]
  },
  {
   "cell_type": "code",
   "execution_count": 49,
   "metadata": {},
   "outputs": [],
   "source": [
    "# reflect an existing database into a new model\n",
    "Base = automap_base()\n",
    "\n",
    "# reflect the tables\n",
    "Base.prepare(engine, reflect=True)"
   ]
  },
  {
   "cell_type": "code",
   "execution_count": 50,
   "metadata": {},
   "outputs": [
    {
     "name": "stdout",
     "output_type": "stream",
     "text": [
      "['measurement', 'station']\n"
     ]
    }
   ],
   "source": [
    "# View all of the classes that automap found\n",
    "print(Base.classes.keys())"
   ]
  },
  {
   "cell_type": "code",
   "execution_count": 51,
   "metadata": {},
   "outputs": [],
   "source": [
    "# Save references to each table\n",
    "measurement = Base.classes.measurement\n",
    "station = Base.classes.station"
   ]
  },
  {
   "cell_type": "code",
   "execution_count": 52,
   "metadata": {},
   "outputs": [],
   "source": [
    "# Create our session (link) from Python to the DB\n",
    "session = Session(bind=engine)"
   ]
  },
  {
   "cell_type": "markdown",
   "metadata": {},
   "source": [
    "# Exploratory Precipitation Analysis"
   ]
  },
  {
   "cell_type": "code",
   "execution_count": 53,
   "metadata": {},
   "outputs": [
    {
     "name": "stdout",
     "output_type": "stream",
     "text": [
      "2017-08-23\n"
     ]
    }
   ],
   "source": [
    "# Find the most recent date in the data set.\n",
    "most_recent_date = session.query(measurement.date).order_by(measurement.date.desc()).first()\n",
    "most_recent_date_str = most_recent_date[0]\n",
    "print(most_recent_date_str)\n"
   ]
  },
  {
   "cell_type": "code",
   "execution_count": 54,
   "metadata": {},
   "outputs": [
    {
     "name": "stdout",
     "output_type": "stream",
     "text": [
      "2016-08-23 00:00:00\n"
     ]
    },
    {
     "data": {
      "text/html": [
       "<div>\n",
       "<style scoped>\n",
       "    .dataframe tbody tr th:only-of-type {\n",
       "        vertical-align: middle;\n",
       "    }\n",
       "\n",
       "    .dataframe tbody tr th {\n",
       "        vertical-align: top;\n",
       "    }\n",
       "\n",
       "    .dataframe thead th {\n",
       "        text-align: right;\n",
       "    }\n",
       "</style>\n",
       "<table border=\"1\" class=\"dataframe\">\n",
       "  <thead>\n",
       "    <tr style=\"text-align: right;\">\n",
       "      <th></th>\n",
       "      <th>Date</th>\n",
       "      <th>Precipitation</th>\n",
       "    </tr>\n",
       "  </thead>\n",
       "  <tbody>\n",
       "    <tr>\n",
       "      <th>0</th>\n",
       "      <td>2016-08-24</td>\n",
       "      <td>0.08</td>\n",
       "    </tr>\n",
       "    <tr>\n",
       "      <th>1</th>\n",
       "      <td>2016-08-24</td>\n",
       "      <td>2.15</td>\n",
       "    </tr>\n",
       "    <tr>\n",
       "      <th>2</th>\n",
       "      <td>2016-08-24</td>\n",
       "      <td>2.28</td>\n",
       "    </tr>\n",
       "    <tr>\n",
       "      <th>3</th>\n",
       "      <td>2016-08-24</td>\n",
       "      <td>NaN</td>\n",
       "    </tr>\n",
       "    <tr>\n",
       "      <th>4</th>\n",
       "      <td>2016-08-24</td>\n",
       "      <td>1.22</td>\n",
       "    </tr>\n",
       "    <tr>\n",
       "      <th>...</th>\n",
       "      <td>...</td>\n",
       "      <td>...</td>\n",
       "    </tr>\n",
       "    <tr>\n",
       "      <th>2218</th>\n",
       "      <td>2017-08-22</td>\n",
       "      <td>0.50</td>\n",
       "    </tr>\n",
       "    <tr>\n",
       "      <th>2219</th>\n",
       "      <td>2017-08-23</td>\n",
       "      <td>0.00</td>\n",
       "    </tr>\n",
       "    <tr>\n",
       "      <th>2220</th>\n",
       "      <td>2017-08-23</td>\n",
       "      <td>0.00</td>\n",
       "    </tr>\n",
       "    <tr>\n",
       "      <th>2221</th>\n",
       "      <td>2017-08-23</td>\n",
       "      <td>0.08</td>\n",
       "    </tr>\n",
       "    <tr>\n",
       "      <th>2222</th>\n",
       "      <td>2017-08-23</td>\n",
       "      <td>0.45</td>\n",
       "    </tr>\n",
       "  </tbody>\n",
       "</table>\n",
       "<p>2223 rows × 2 columns</p>\n",
       "</div>"
      ],
      "text/plain": [
       "            Date  Precipitation\n",
       "0     2016-08-24           0.08\n",
       "1     2016-08-24           2.15\n",
       "2     2016-08-24           2.28\n",
       "3     2016-08-24            NaN\n",
       "4     2016-08-24           1.22\n",
       "...          ...            ...\n",
       "2218  2017-08-22           0.50\n",
       "2219  2017-08-23           0.00\n",
       "2220  2017-08-23           0.00\n",
       "2221  2017-08-23           0.08\n",
       "2222  2017-08-23           0.45\n",
       "\n",
       "[2223 rows x 2 columns]"
      ]
     },
     "metadata": {},
     "output_type": "display_data"
    }
   ],
   "source": [
    "# Design a query to retrieve the last 12 months of precipitation data and plot the results. \n",
    "# Starting from the most recent data point in the database. \n",
    "if most_recent_date_str:\n",
    "\n",
    "# Calculate the date one year from the last date in data set.\n",
    "    twelve_months_ago = dt.datetime.strptime(most_recent_date_str, \"%Y-%m-%d\") - dt.timedelta(days=365)\n",
    "    print(twelve_months_ago)\n",
    "\n",
    "# Perform a query to retrieve the data and precipitation scores\n",
    "    precipitation_data = session.query(measurement.date, measurement.prcp)\\\n",
    "        .filter(measurement.date >= twelve_months_ago)\\\n",
    "        .order_by(measurement.date).all()\n",
    "\n",
    "# Save the query results as a Pandas DataFrame. Explicitly set the column names\n",
    "    df = pd.DataFrame(precipitation_data, columns=['Date', 'Precipitation'])\n",
    "display(df)\n",
    "\n"
   ]
  },
  {
   "cell_type": "code",
   "execution_count": 55,
   "metadata": {},
   "outputs": [
    {
     "data": {
      "text/html": [
       "<div>\n",
       "<style scoped>\n",
       "    .dataframe tbody tr th:only-of-type {\n",
       "        vertical-align: middle;\n",
       "    }\n",
       "\n",
       "    .dataframe tbody tr th {\n",
       "        vertical-align: top;\n",
       "    }\n",
       "\n",
       "    .dataframe thead th {\n",
       "        text-align: right;\n",
       "    }\n",
       "</style>\n",
       "<table border=\"1\" class=\"dataframe\">\n",
       "  <thead>\n",
       "    <tr style=\"text-align: right;\">\n",
       "      <th></th>\n",
       "      <th>Date</th>\n",
       "      <th>Precipitation</th>\n",
       "    </tr>\n",
       "  </thead>\n",
       "  <tbody>\n",
       "    <tr>\n",
       "      <th>0</th>\n",
       "      <td>2016-08-24</td>\n",
       "      <td>0.08</td>\n",
       "    </tr>\n",
       "    <tr>\n",
       "      <th>1</th>\n",
       "      <td>2016-08-24</td>\n",
       "      <td>2.15</td>\n",
       "    </tr>\n",
       "    <tr>\n",
       "      <th>2</th>\n",
       "      <td>2016-08-24</td>\n",
       "      <td>2.28</td>\n",
       "    </tr>\n",
       "    <tr>\n",
       "      <th>3</th>\n",
       "      <td>2016-08-24</td>\n",
       "      <td>NaN</td>\n",
       "    </tr>\n",
       "    <tr>\n",
       "      <th>4</th>\n",
       "      <td>2016-08-24</td>\n",
       "      <td>1.22</td>\n",
       "    </tr>\n",
       "    <tr>\n",
       "      <th>...</th>\n",
       "      <td>...</td>\n",
       "      <td>...</td>\n",
       "    </tr>\n",
       "    <tr>\n",
       "      <th>2218</th>\n",
       "      <td>2017-08-22</td>\n",
       "      <td>0.50</td>\n",
       "    </tr>\n",
       "    <tr>\n",
       "      <th>2219</th>\n",
       "      <td>2017-08-23</td>\n",
       "      <td>0.00</td>\n",
       "    </tr>\n",
       "    <tr>\n",
       "      <th>2220</th>\n",
       "      <td>2017-08-23</td>\n",
       "      <td>0.00</td>\n",
       "    </tr>\n",
       "    <tr>\n",
       "      <th>2221</th>\n",
       "      <td>2017-08-23</td>\n",
       "      <td>0.08</td>\n",
       "    </tr>\n",
       "    <tr>\n",
       "      <th>2222</th>\n",
       "      <td>2017-08-23</td>\n",
       "      <td>0.45</td>\n",
       "    </tr>\n",
       "  </tbody>\n",
       "</table>\n",
       "<p>2223 rows × 2 columns</p>\n",
       "</div>"
      ],
      "text/plain": [
       "            Date  Precipitation\n",
       "0     2016-08-24           0.08\n",
       "1     2016-08-24           2.15\n",
       "2     2016-08-24           2.28\n",
       "3     2016-08-24            NaN\n",
       "4     2016-08-24           1.22\n",
       "...          ...            ...\n",
       "2218  2017-08-22           0.50\n",
       "2219  2017-08-23           0.00\n",
       "2220  2017-08-23           0.00\n",
       "2221  2017-08-23           0.08\n",
       "2222  2017-08-23           0.45\n",
       "\n",
       "[2223 rows x 2 columns]"
      ]
     },
     "metadata": {},
     "output_type": "display_data"
    },
    {
     "name": "stdout",
     "output_type": "stream",
     "text": [
      "{'2016-08-24': 1.45, '2016-08-25': 0.11, '2016-08-26': 0.01, '2016-08-27': nan, '2016-08-28': 2.07, '2016-08-29': 0.9, '2016-08-30': 0.05, '2016-08-31': 2.46, '2016-09-01': 0.01, '2016-09-02': 0.03, '2016-09-03': 1.0, '2016-09-04': 0.44, '2016-09-05': 0.18, '2016-09-06': 1.0, '2016-09-07': 1.35, '2016-09-08': 0.15, '2016-09-09': 0.35, '2016-09-10': 1.16, '2016-09-11': 0.6, '2016-09-12': 1.04, '2016-09-13': 1.2, '2016-09-14': 6.7, '2016-09-15': 3.35, '2016-09-16': 0.61, '2016-09-17': 0.23, '2016-09-18': 0.42, '2016-09-19': 0.25, '2016-09-20': 0.43, '2016-09-21': 1.02, '2016-09-22': 0.75, '2016-09-23': 0.33, '2016-09-24': 0.27, '2016-09-25': 0.04, '2016-09-26': 1.02, '2016-09-27': 1.0, '2016-09-28': 0.05, '2016-09-29': 1.49, '2016-09-30': 0.38, '2016-10-01': 1.02, '2016-10-02': 0.61, '2016-10-03': 0.46, '2016-10-04': 3.46, '2016-10-05': 0.81, '2016-10-06': 0.04, '2016-10-07': 0.01, '2016-10-08': 0.04, '2016-10-09': 0.0, '2016-10-10': 0.0, '2016-10-11': 0.35, '2016-10-12': 0.02, '2016-10-13': 0.06, '2016-10-14': 0.0, '2016-10-15': 0.33, '2016-10-16': 0.0, '2016-10-17': 0.38, '2016-10-18': 0.48, '2016-10-19': 0.0, '2016-10-20': 1.0, '2016-10-21': 0.09, '2016-10-22': 1.37, '2016-10-23': 0.24, '2016-10-24': 0.7, '2016-10-25': 0.4, '2016-10-26': 0.0, '2016-10-27': 1.25, '2016-10-28': 0.37, '2016-10-29': 0.25, '2016-10-30': 0.95, '2016-10-31': 1.35, '2016-11-01': 0.09, '2016-11-02': 0.04, '2016-11-03': 0.02, '2016-11-04': 0.06, '2016-11-05': 0.38, '2016-11-06': 0.05, '2016-11-07': 0.05, '2016-11-08': 0.53, '2016-11-09': 0.04, '2016-11-10': 0.01, '2016-11-11': 0.0, '2016-11-12': 0.0, '2016-11-13': 0.0, '2016-11-14': 0.02, '2016-11-15': 0.05, '2016-11-16': 0.91, '2016-11-17': 0.02, '2016-11-18': 0.0, '2016-11-19': 0.11, '2016-11-20': nan, '2016-11-21': 2.87, '2016-11-22': 2.11, '2016-11-23': 0.22, '2016-11-24': 0.72, '2016-11-25': 1.03, '2016-11-26': 0.3, '2016-11-27': 0.29, '2016-11-28': 0.69, '2016-11-29': 0.2, '2016-11-30': 0.79, '2016-12-01': 0.72, '2016-12-02': 1.27, '2016-12-03': 1.62, '2016-12-04': 0.31, '2016-12-05': 1.6, '2016-12-06': 0.0, '2016-12-07': 0.02, '2016-12-08': 0.03, '2016-12-09': 0.42, '2016-12-10': 0.04, '2016-12-11': 0.13, '2016-12-12': 0.01, '2016-12-13': 0.09, '2016-12-14': 0.33, '2016-12-15': 0.03, '2016-12-16': 0.0, '2016-12-17': 0.07, '2016-12-18': nan, '2016-12-19': 0.15, '2016-12-20': 0.0, '2016-12-21': 0.55, '2016-12-22': 1.24, '2016-12-23': 0.83, '2016-12-24': 1.08, '2016-12-25': 0.38, '2016-12-26': 1.48, '2016-12-27': 0.14, '2016-12-28': 0.14, '2016-12-29': 1.03, '2016-12-30': 2.37, '2016-12-31': 0.9, '2017-01-01': 0.03, '2017-01-02': 0.0, '2017-01-03': 0.0, '2017-01-04': 0.0, '2017-01-05': 0.47, '2017-01-06': 0.1, '2017-01-07': 0.0, '2017-01-08': 0.03, '2017-01-09': 0.0, '2017-01-10': 0.0, '2017-01-11': 0.0, '2017-01-12': 0.0, '2017-01-13': 0.0, '2017-01-14': 0.0, '2017-01-15': 0.01, '2017-01-16': 0.0, '2017-01-17': 0.0, '2017-01-18': 0.07, '2017-01-19': 0.0, '2017-01-20': 0.0, '2017-01-21': 0.08, '2017-01-22': 0.72, '2017-01-23': 0.85, '2017-01-24': 1.85, '2017-01-25': 2.64, '2017-01-26': 0.1, '2017-01-27': 0.03, '2017-01-28': 0.0, '2017-01-29': 0.55, '2017-01-30': 0.0, '2017-01-31': 0.0, '2017-02-01': 0.0, '2017-02-02': 0.0, '2017-02-03': 0.0, '2017-02-04': nan, '2017-02-05': 0.0, '2017-02-06': 0.0, '2017-02-07': 1.79, '2017-02-08': 0.0, '2017-02-09': 0.0, '2017-02-10': 0.0, '2017-02-11': 0.73, '2017-02-12': 1.83, '2017-02-13': 0.0, '2017-02-14': 0.01, '2017-02-15': 0.07, '2017-02-16': 0.13, '2017-02-17': 0.13, '2017-02-18': nan, '2017-02-19': 0.1, '2017-02-20': 0.0, '2017-02-21': 0.07, '2017-02-22': 0.32, '2017-02-23': 0.0, '2017-02-24': 0.0, '2017-02-25': 0.12, '2017-02-26': 0.0, '2017-02-27': 0.0, '2017-02-28': 0.58, '2017-03-01': 2.0, '2017-03-02': 0.58, '2017-03-03': 0.56, '2017-03-04': 0.0, '2017-03-05': 0.35, '2017-03-06': 0.0, '2017-03-07': 0.0, '2017-03-08': 0.0, '2017-03-09': 0.01, '2017-03-10': 0.0, '2017-03-11': 0.0, '2017-03-12': 0.0, '2017-03-13': nan, '2017-03-14': 0.0, '2017-03-15': 0.0, '2017-03-16': 0.0, '2017-03-17': 0.12, '2017-03-18': nan, '2017-03-19': 0.0, '2017-03-20': 0.0, '2017-03-21': 0.0, '2017-03-22': 0.0, '2017-03-23': 0.03, '2017-03-24': 0.17, '2017-03-25': 0.48, '2017-03-26': 0.0, '2017-03-27': 0.0, '2017-03-28': 0.68, '2017-03-29': 0.07, '2017-03-30': 0.04, '2017-03-31': nan, '2017-04-01': 0.2, '2017-04-02': 0.0, '2017-04-03': 0.23, '2017-04-04': 0.02, '2017-04-05': 0.45, '2017-04-06': 0.0, '2017-04-07': 0.0, '2017-04-08': nan, '2017-04-09': 0.0, '2017-04-10': 0.0, '2017-04-11': 0.25, '2017-04-12': 0.65, '2017-04-13': 0.23, '2017-04-14': 2.82, '2017-04-15': 0.9, '2017-04-16': 0.11, '2017-04-17': 1.3, '2017-04-18': 0.98, '2017-04-19': 0.14, '2017-04-20': 0.0, '2017-04-21': 1.84, '2017-04-22': 1.35, '2017-04-23': 0.35, '2017-04-24': 0.05, '2017-04-25': 0.0, '2017-04-26': 0.22, '2017-04-27': 0.11, '2017-04-28': 0.79, '2017-04-29': 0.0, '2017-04-30': 0.8, '2017-05-01': 0.25, '2017-05-02': 0.0, '2017-05-03': 0.01, '2017-05-04': nan, '2017-05-05': 0.1, '2017-05-06': 0.0, '2017-05-07': 0.03, '2017-05-08': 1.11, '2017-05-09': 0.23, '2017-05-10': 0.55, '2017-05-11': 0.44, '2017-05-12': 0.1, '2017-05-13': 0.1, '2017-05-14': 1.0, '2017-05-15': 0.6, '2017-05-16': 0.3, '2017-05-17': 0.06, '2017-05-18': 0.0, '2017-05-19': 0.01, '2017-05-20': nan, '2017-05-21': 0.0, '2017-05-22': 0.3, '2017-05-23': 0.44, '2017-05-24': 2.17, '2017-05-25': 0.88, '2017-05-26': 0.0, '2017-05-27': 0.5, '2017-05-28': 0.0, '2017-05-29': 0.4, '2017-05-30': nan, '2017-05-31': 0.25, '2017-06-01': 0.01, '2017-06-02': 0.09, '2017-06-03': nan, '2017-06-04': 0.82, '2017-06-05': 0.01, '2017-06-06': 0.0, '2017-06-07': 0.01, '2017-06-08': 0.0, '2017-06-09': 0.02, '2017-06-10': nan, '2017-06-11': 0.7, '2017-06-12': 0.81, '2017-06-13': 0.65, '2017-06-14': 0.81, '2017-06-15': 1.69, '2017-06-16': 0.1, '2017-06-17': 0.1, '2017-06-18': 0.7, '2017-06-19': 0.4, '2017-06-20': 0.31, '2017-06-21': 0.3, '2017-06-22': 0.28, '2017-06-23': 0.5, '2017-06-24': 0.22, '2017-06-25': 0.5, '2017-06-26': 0.02, '2017-06-27': 0.1, '2017-06-28': 0.02, '2017-06-29': 0.04, '2017-06-30': 0.2, '2017-07-01': 0.1, '2017-07-02': 0.5, '2017-07-03': 0.4, '2017-07-04': 0.0, '2017-07-05': 0.0, '2017-07-06': 0.02, '2017-07-07': 0.3, '2017-07-08': 0.02, '2017-07-09': 0.0, '2017-07-10': 0.02, '2017-07-11': 0.0, '2017-07-12': 0.05, '2017-07-13': 0.68, '2017-07-14': 0.68, '2017-07-15': 0.1, '2017-07-16': 0.5, '2017-07-17': 0.39, '2017-07-18': 2.4, '2017-07-19': 0.27, '2017-07-20': 0.7, '2017-07-21': 0.1, '2017-07-22': 4.0, '2017-07-23': 0.8, '2017-07-24': 0.84, '2017-07-25': 0.3, '2017-07-26': 0.3, '2017-07-27': 0.0, '2017-07-28': 0.4, '2017-07-29': 0.3, '2017-07-30': 0.3, '2017-07-31': 0.0, '2017-08-01': nan, '2017-08-02': 0.25, '2017-08-03': 0.06, '2017-08-04': 0.0, '2017-08-05': nan, '2017-08-06': nan, '2017-08-07': 0.05, '2017-08-08': 0.34, '2017-08-09': 0.15, '2017-08-10': 0.07, '2017-08-11': nan, '2017-08-12': 0.14, '2017-08-13': nan, '2017-08-14': 0.22, '2017-08-15': 0.42, '2017-08-16': 0.42, '2017-08-17': 0.13, '2017-08-18': nan, '2017-08-19': 0.09, '2017-08-20': nan, '2017-08-21': 0.56, '2017-08-22': 0.5, '2017-08-23': 0.45}\n"
     ]
    }
   ],
   "source": [
    "display(df)\n",
    "\n",
    "\n",
    "precipitation_dictionary = df.set_index(\"Date\")[\"Precipitation\"].to_dict()\n",
    "\n",
    "print(precipitation_dictionary)"
   ]
  },
  {
   "cell_type": "code",
   "execution_count": 70,
   "metadata": {},
   "outputs": [
    {
     "data": {
      "image/png": "[encoded data removed]",
      "text/plain": [
       "<Figure size 640x480 with 1 Axes>"
      ]
     },
     "metadata": {},
     "output_type": "display_data"
    }
   ],
   "source": [
    "# Use Pandas Plotting with Matplotlib to plot the data\n",
    "df.plot(title = \"Precipitation Over the Last 12 Months\", x = \"Date\", rot = 90)\n",
    "plt.xlabel(\"Date\")\n",
    "plt.ylabel(\"Precipitation (inches)\")\n",
    "plt.tight_layout()\n",
    "plt.show()\n",
    "\n"
   ]
  },
  {
   "cell_type": "code",
   "execution_count": 57,
   "metadata": {},
   "outputs": [
    {
     "data": {
      "text/html": [
       "<div>\n",
       "<style scoped>\n",
       "    .dataframe tbody tr th:only-of-type {\n",
       "        vertical-align: middle;\n",
       "    }\n",
       "\n",
       "    .dataframe tbody tr th {\n",
       "        vertical-align: top;\n",
       "    }\n",
       "\n",
       "    .dataframe thead th {\n",
       "        text-align: right;\n",
       "    }\n",
       "</style>\n",
       "<table border=\"1\" class=\"dataframe\">\n",
       "  <thead>\n",
       "    <tr style=\"text-align: right;\">\n",
       "      <th></th>\n",
       "      <th>Precipitation</th>\n",
       "    </tr>\n",
       "  </thead>\n",
       "  <tbody>\n",
       "    <tr>\n",
       "      <th>count</th>\n",
       "      <td>2015.000000</td>\n",
       "    </tr>\n",
       "    <tr>\n",
       "      <th>mean</th>\n",
       "      <td>0.176462</td>\n",
       "    </tr>\n",
       "    <tr>\n",
       "      <th>std</th>\n",
       "      <td>0.460288</td>\n",
       "    </tr>\n",
       "    <tr>\n",
       "      <th>min</th>\n",
       "      <td>0.000000</td>\n",
       "    </tr>\n",
       "    <tr>\n",
       "      <th>25%</th>\n",
       "      <td>0.000000</td>\n",
       "    </tr>\n",
       "    <tr>\n",
       "      <th>50%</th>\n",
       "      <td>0.020000</td>\n",
       "    </tr>\n",
       "    <tr>\n",
       "      <th>75%</th>\n",
       "      <td>0.130000</td>\n",
       "    </tr>\n",
       "    <tr>\n",
       "      <th>max</th>\n",
       "      <td>6.700000</td>\n",
       "    </tr>\n",
       "  </tbody>\n",
       "</table>\n",
       "</div>"
      ],
      "text/plain": [
       "       Precipitation\n",
       "count    2015.000000\n",
       "mean        0.176462\n",
       "std         0.460288\n",
       "min         0.000000\n",
       "25%         0.000000\n",
       "50%         0.020000\n",
       "75%         0.130000\n",
       "max         6.700000"
      ]
     },
     "execution_count": 57,
     "metadata": {},
     "output_type": "execute_result"
    }
   ],
   "source": [
    "# Use Pandas to calculate the summary statistics for the precipitation data\n",
    "df.describe()"
   ]
  },
  {
   "cell_type": "markdown",
   "metadata": {},
   "source": [
    "# Exploratory Station Analysis"
   ]
  },
  {
   "cell_type": "code",
   "execution_count": 58,
   "metadata": {},
   "outputs": [
    {
     "name": "stdout",
     "output_type": "stream",
     "text": [
      "[('USC00519397',), ('USC00513117',), ('USC00514830',), ('USC00517948',), ('USC00518838',), ('USC00519523',), ('USC00519281',), ('USC00511918',), ('USC00516128',)]\n",
      "9\n"
     ]
    }
   ],
   "source": [
    "# Design a query to calculate the total number of stations in the dataset\n",
    "from sqlalchemy import func, distinct\n",
    "total_stations = session.query(func.count(distinct(measurement.station))).scalar()\n",
    "distinct_stations = session.query(measurement.station).distinct().all()\n",
    "print(distinct_stations)\n",
    "print(total_stations)"
   ]
  },
  {
   "cell_type": "code",
   "execution_count": 59,
   "metadata": {},
   "outputs": [
    {
     "name": "stdout",
     "output_type": "stream",
     "text": [
      "Station USC00519281: 2772 rows\n",
      "Station USC00519397: 2724 rows\n",
      "Station USC00513117: 2709 rows\n",
      "Station USC00519523: 2669 rows\n",
      "Station USC00516128: 2612 rows\n",
      "Station USC00514830: 2202 rows\n",
      "Station USC00511918: 1979 rows\n",
      "Station USC00517948: 1372 rows\n",
      "Station USC00518838: 511 rows\n"
     ]
    }
   ],
   "source": [
    "# Design a query to find the most active stations (i.e. which stations have the most rows?)\n",
    "# List the stations and their counts in descending order.\n",
    "station_counts = session.query(measurement.station, func.count(measurement.station).label('station_count'))\\\n",
    "                        .group_by(measurement.station)\\\n",
    "                        .order_by(func.count(measurement.station).desc())\\\n",
    "                        .all()\n",
    "\n",
    "for station, count in station_counts:\n",
    "    print(f\"Station {station}: {count} rows\")\n"
   ]
  },
  {
   "cell_type": "code",
   "execution_count": 60,
   "metadata": {},
   "outputs": [
    {
     "name": "stdout",
     "output_type": "stream",
     "text": [
      "Lowest Temp: 54.0\n",
      "Highest Temp: 85.0 \n",
      "Average Temp: 71.66378066378067\n"
     ]
    }
   ],
   "source": [
    "# Using the most active station id from the previous query, calculate the lowest, highest, and average temperature.\n",
    "most_active_station_id = 'USC00519281'\n",
    "lowest_temp = session.query(func.min(measurement.tobs)).filter(measurement.station == most_active_station_id).scalar()\n",
    "highest_temp = session.query(func.max(measurement.tobs)).filter(measurement.station == most_active_station_id).scalar()\n",
    "average_temp = session.query(func.avg(measurement.tobs)).filter(measurement.station == most_active_station_id).scalar()\n",
    "\n",
    "print(f\"Lowest Temp: {lowest_temp}\\n\" f\"Highest Temp: {highest_temp} \\n\" f\"Average Temp: {average_temp}\")"
   ]
  },
  {
   "cell_type": "code",
   "execution_count": 61,
   "metadata": {},
   "outputs": [
    {
     "data": {
      "image/png": "[encoded data removed]",
      "text/plain": [
       "<Figure size 640x480 with 1 Axes>"
      ]
     },
     "metadata": {},
     "output_type": "display_data"
    }
   ],
   "source": [
    "# Using the most active station id\n",
    "# Query the last 12 months of temperature observation data for this station and plot the results as a histogram\n",
    "most_active_station = session.query(measurement.station, func.count(measurement.station).label('station_count'))\\\n",
    "    .group_by(measurement.station)\\\n",
    "    .order_by(func.count(measurement.station).desc())\\\n",
    "    .first()\n",
    "\n",
    "if most_active_station:\n",
    "    most_active_station_id = most_active_station[0]\n",
    "\n",
    "    # Calculate the date one year from the last date in the data set\n",
    "    one_year_ago = pd.to_datetime(most_recent_date) - pd.DateOffset(years=1)\n",
    "    one_year_ago_scalar = one_year_ago[0].strftime('%Y-%m-%d')  # Convert to string\n",
    "\n",
    "    # Query the last 12 months of temperature observation data for the most active station\n",
    "    last_12_months_temps = session.query(measurement.date, measurement.tobs)\\\n",
    "    .filter(measurement.station == most_active_station_id)\\\n",
    "    .filter(measurement.date >= one_year_ago_scalar)\\\n",
    "    .all()\n",
    "\n",
    "    # Create a DataFrame from the query results\n",
    "    df_temps = pd.DataFrame(last_12_months_temps, columns=['Date', 'Temperature'])\n",
    "\n",
    "    # Plot the results as a histogram\n",
    "    plt.hist(df_temps['Temperature'], bins=12, label='Temperature Observations')\n",
    "    plt.xlabel('Temperature (F)')\n",
    "    plt.ylabel('Frequency')\n",
    "    plt.title('Temperature Observations for the Last 12 Months')\n",
    "    plt.legend()\n",
    "    plt.show()\n",
    "else:\n",
    "    print(\"No active stations found.\")"
   ]
  },
  {
   "cell_type": "markdown",
   "metadata": {},
   "source": [
    "# Close Session"
   ]
  },
  {
   "cell_type": "code",
   "execution_count": 62,
   "metadata": {},
   "outputs": [],
   "source": [
    "# Close Session\n",
    "session.close()"
   ]
  }
 ],
 "metadata": {
  "anaconda-cloud": {},
  "kernel_info": {
   "name": "python3"
  },
  "kernelspec": {
   "display_name": "Python 3 (ipykernel)",
   "language": "python",
   "name": "python3"
  },
  "language_info": {
   "codemirror_mode": {
    "name": "ipython",
    "version": 3
   },
   "file_extension": ".py",
   "mimetype": "text/x-python",
   "name": "python",
   "nbconvert_exporter": "python",
   "pygments_lexer": "ipython3",
   "version": "3.10.13"
  },
  "nteract": {
   "version": "0.12.3"
  },
  "varInspector": {
   "cols": {
    "lenName": 16,
    "lenType": 16,
    "lenVar": 40
   },
   "kernels_config": {
    "python": {
     "delete_cmd_postfix": "",
     "delete_cmd_prefix": "del ",
     "library": "var_list.py",
     "varRefreshCmd": "print(var_dic_list())"
    },
    "r": {
     "delete_cmd_postfix": ") ",
     "delete_cmd_prefix": "rm(",
     "library": "var_list.r",
     "varRefreshCmd": "cat(var_dic_list()) "
    }
   },
   "types_to_exclude": [
    "module",
    "function",
    "builtin_function_or_method",
    "instance",
    "_Feature"
   ],
   "window_display": false
  }
 },
 "nbformat": 4,
 "nbformat_minor": 2
}
